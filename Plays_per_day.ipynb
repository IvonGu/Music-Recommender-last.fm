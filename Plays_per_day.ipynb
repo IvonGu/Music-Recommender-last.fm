{
 "cells": [
  {
   "cell_type": "code",
   "execution_count": 1,
   "metadata": {
    "collapsed": true
   },
   "outputs": [],
   "source": [
    "#Import Packages\n",
    "\n",
    "import pandas as pd\n",
    "import numpy as np\n",
    "import seaborn as sns\n",
    "\n",
    "import matplotlib.pyplot as plt\n",
    "\n",
    "import os\n",
    "\n",
    "%matplotlib inline\n",
    "pd.set_option('display.max_columns', 500)"
   ]
  },
  {
   "cell_type": "code",
   "execution_count": 2,
   "metadata": {
    "collapsed": false
   },
   "outputs": [],
   "source": [
    "#Import the data\n",
    "dfsmall = pd.read_csv(\"./lastfm-dataset-360k-small/merged-subset.csv\",encoding='ISO-8859-1')\n",
    "dfsmall = dfsmall.drop('Unnamed: 0',axis=1)"
   ]
  },
  {
   "cell_type": "code",
   "execution_count": 3,
   "metadata": {
    "collapsed": false
   },
   "outputs": [
    {
     "data": {
      "text/html": [
       "<div>\n",
       "<style>\n",
       "    .dataframe thead tr:only-child th {\n",
       "        text-align: right;\n",
       "    }\n",
       "\n",
       "    .dataframe thead th {\n",
       "        text-align: left;\n",
       "    }\n",
       "\n",
       "    .dataframe tbody tr th {\n",
       "        vertical-align: top;\n",
       "    }\n",
       "</style>\n",
       "<table border=\"1\" class=\"dataframe\">\n",
       "  <thead>\n",
       "    <tr style=\"text-align: right;\">\n",
       "      <th></th>\n",
       "      <th>userId</th>\n",
       "      <th>artistId</th>\n",
       "      <th>artist</th>\n",
       "      <th>plays</th>\n",
       "      <th>gender</th>\n",
       "      <th>age</th>\n",
       "      <th>country</th>\n",
       "      <th>signupDate</th>\n",
       "    </tr>\n",
       "  </thead>\n",
       "  <tbody>\n",
       "    <tr>\n",
       "      <th>0</th>\n",
       "      <td>03b9c645bc4f578ea1dcb6a975e7ea71fab79da2</td>\n",
       "      <td>a16371b9-7d36-497a-a9d4-42b0a0440c5e</td>\n",
       "      <td>slowdive</td>\n",
       "      <td>108</td>\n",
       "      <td>m</td>\n",
       "      <td>28.0</td>\n",
       "      <td>Germany</td>\n",
       "      <td>Sep 16, 2006</td>\n",
       "    </tr>\n",
       "    <tr>\n",
       "      <th>1</th>\n",
       "      <td>ee48ac7de691d31176a2843d0f2f8f49cab78e6d</td>\n",
       "      <td>5a24bc1a-c093-4a82-84ed-8d7f2da0570d</td>\n",
       "      <td>skinny puppy</td>\n",
       "      <td>407</td>\n",
       "      <td>m</td>\n",
       "      <td>NaN</td>\n",
       "      <td>Canada</td>\n",
       "      <td>Dec 14, 2006</td>\n",
       "    </tr>\n",
       "    <tr>\n",
       "      <th>2</th>\n",
       "      <td>b2e3d27a00fc3035edb439b14e6d30bcb6dddf69</td>\n",
       "      <td>68f1175b-592b-4f28-ab1c-85c7a438c636</td>\n",
       "      <td>turbonegro</td>\n",
       "      <td>91</td>\n",
       "      <td>m</td>\n",
       "      <td>29.0</td>\n",
       "      <td>United Kingdom</td>\n",
       "      <td>Sep 23, 2005</td>\n",
       "    </tr>\n",
       "    <tr>\n",
       "      <th>3</th>\n",
       "      <td>b4d4909255dc5bb404ff64866cac60164b465e9a</td>\n",
       "      <td>cfd3727e-7162-4e6a-a3f7-a59343ee6b8d</td>\n",
       "      <td>honey is cool</td>\n",
       "      <td>50</td>\n",
       "      <td>NaN</td>\n",
       "      <td>NaN</td>\n",
       "      <td>Denmark</td>\n",
       "      <td>Dec 22, 2008</td>\n",
       "    </tr>\n",
       "    <tr>\n",
       "      <th>4</th>\n",
       "      <td>758de8850b5a07875da1e23296e4021574be8596</td>\n",
       "      <td>3bb24e11-821a-4e4e-bd89-e0a2452474cf</td>\n",
       "      <td>useless id</td>\n",
       "      <td>108</td>\n",
       "      <td>m</td>\n",
       "      <td>25.0</td>\n",
       "      <td>Serbia</td>\n",
       "      <td>Mar 15, 2009</td>\n",
       "    </tr>\n",
       "  </tbody>\n",
       "</table>\n",
       "</div>"
      ],
      "text/plain": [
       "                                     userId  \\\n",
       "0  03b9c645bc4f578ea1dcb6a975e7ea71fab79da2   \n",
       "1  ee48ac7de691d31176a2843d0f2f8f49cab78e6d   \n",
       "2  b2e3d27a00fc3035edb439b14e6d30bcb6dddf69   \n",
       "3  b4d4909255dc5bb404ff64866cac60164b465e9a   \n",
       "4  758de8850b5a07875da1e23296e4021574be8596   \n",
       "\n",
       "                               artistId         artist  plays gender   age  \\\n",
       "0  a16371b9-7d36-497a-a9d4-42b0a0440c5e       slowdive    108      m  28.0   \n",
       "1  5a24bc1a-c093-4a82-84ed-8d7f2da0570d   skinny puppy    407      m   NaN   \n",
       "2  68f1175b-592b-4f28-ab1c-85c7a438c636     turbonegro     91      m  29.0   \n",
       "3  cfd3727e-7162-4e6a-a3f7-a59343ee6b8d  honey is cool     50    NaN   NaN   \n",
       "4  3bb24e11-821a-4e4e-bd89-e0a2452474cf     useless id    108      m  25.0   \n",
       "\n",
       "          country    signupDate  \n",
       "0         Germany  Sep 16, 2006  \n",
       "1          Canada  Dec 14, 2006  \n",
       "2  United Kingdom  Sep 23, 2005  \n",
       "3         Denmark  Dec 22, 2008  \n",
       "4          Serbia  Mar 15, 2009  "
      ]
     },
     "execution_count": 3,
     "metadata": {},
     "output_type": "execute_result"
    }
   ],
   "source": [
    "dfsmall.head()"
   ]
  },
  {
   "cell_type": "code",
   "execution_count": 4,
   "metadata": {
    "collapsed": false
   },
   "outputs": [],
   "source": [
    "dfsmall['signupDate'] = pd.to_datetime(dfsmall['signupDate']) # Change_to_datetime\n",
    "dfsmall['last_date'] = 'March 31, 2010'\n",
    "dfsmall['last_date'] = pd.to_datetime(dfsmall['last_date']) # Change_to_datetime\n",
    "dfsmall['timedelta'] = dfsmall['last_date'] - dfsmall['signupDate']\n",
    "dfsmall['timedelta'] = dfsmall['timedelta'].map(lambda x : x.days)\n",
    "\n",
    "dfsmall['plays'] = dfsmall['plays'] / dfsmall['timedelta']\n",
    "\n",
    "dfsmall = dfsmall.drop(['last_date','timedelta'],axis=1)"
   ]
  },
  {
   "cell_type": "code",
   "execution_count": 5,
   "metadata": {
    "collapsed": false
   },
   "outputs": [
    {
     "data": {
      "text/html": [
       "<div>\n",
       "<style>\n",
       "    .dataframe thead tr:only-child th {\n",
       "        text-align: right;\n",
       "    }\n",
       "\n",
       "    .dataframe thead th {\n",
       "        text-align: left;\n",
       "    }\n",
       "\n",
       "    .dataframe tbody tr th {\n",
       "        vertical-align: top;\n",
       "    }\n",
       "</style>\n",
       "<table border=\"1\" class=\"dataframe\">\n",
       "  <thead>\n",
       "    <tr style=\"text-align: right;\">\n",
       "      <th></th>\n",
       "      <th>userId</th>\n",
       "      <th>artistId</th>\n",
       "      <th>artist</th>\n",
       "      <th>plays</th>\n",
       "      <th>gender</th>\n",
       "      <th>age</th>\n",
       "      <th>country</th>\n",
       "      <th>signupDate</th>\n",
       "    </tr>\n",
       "  </thead>\n",
       "  <tbody>\n",
       "    <tr>\n",
       "      <th>0</th>\n",
       "      <td>03b9c645bc4f578ea1dcb6a975e7ea71fab79da2</td>\n",
       "      <td>a16371b9-7d36-497a-a9d4-42b0a0440c5e</td>\n",
       "      <td>slowdive</td>\n",
       "      <td>0.083591</td>\n",
       "      <td>m</td>\n",
       "      <td>28.0</td>\n",
       "      <td>Germany</td>\n",
       "      <td>2006-09-16</td>\n",
       "    </tr>\n",
       "    <tr>\n",
       "      <th>1</th>\n",
       "      <td>ee48ac7de691d31176a2843d0f2f8f49cab78e6d</td>\n",
       "      <td>5a24bc1a-c093-4a82-84ed-8d7f2da0570d</td>\n",
       "      <td>skinny puppy</td>\n",
       "      <td>0.338321</td>\n",
       "      <td>m</td>\n",
       "      <td>NaN</td>\n",
       "      <td>Canada</td>\n",
       "      <td>2006-12-14</td>\n",
       "    </tr>\n",
       "    <tr>\n",
       "      <th>2</th>\n",
       "      <td>b2e3d27a00fc3035edb439b14e6d30bcb6dddf69</td>\n",
       "      <td>68f1175b-592b-4f28-ab1c-85c7a438c636</td>\n",
       "      <td>turbonegro</td>\n",
       "      <td>0.055152</td>\n",
       "      <td>m</td>\n",
       "      <td>29.0</td>\n",
       "      <td>United Kingdom</td>\n",
       "      <td>2005-09-23</td>\n",
       "    </tr>\n",
       "    <tr>\n",
       "      <th>3</th>\n",
       "      <td>b4d4909255dc5bb404ff64866cac60164b465e9a</td>\n",
       "      <td>cfd3727e-7162-4e6a-a3f7-a59343ee6b8d</td>\n",
       "      <td>honey is cool</td>\n",
       "      <td>0.107759</td>\n",
       "      <td>NaN</td>\n",
       "      <td>NaN</td>\n",
       "      <td>Denmark</td>\n",
       "      <td>2008-12-22</td>\n",
       "    </tr>\n",
       "    <tr>\n",
       "      <th>4</th>\n",
       "      <td>758de8850b5a07875da1e23296e4021574be8596</td>\n",
       "      <td>3bb24e11-821a-4e4e-bd89-e0a2452474cf</td>\n",
       "      <td>useless id</td>\n",
       "      <td>0.283465</td>\n",
       "      <td>m</td>\n",
       "      <td>25.0</td>\n",
       "      <td>Serbia</td>\n",
       "      <td>2009-03-15</td>\n",
       "    </tr>\n",
       "  </tbody>\n",
       "</table>\n",
       "</div>"
      ],
      "text/plain": [
       "                                     userId  \\\n",
       "0  03b9c645bc4f578ea1dcb6a975e7ea71fab79da2   \n",
       "1  ee48ac7de691d31176a2843d0f2f8f49cab78e6d   \n",
       "2  b2e3d27a00fc3035edb439b14e6d30bcb6dddf69   \n",
       "3  b4d4909255dc5bb404ff64866cac60164b465e9a   \n",
       "4  758de8850b5a07875da1e23296e4021574be8596   \n",
       "\n",
       "                               artistId         artist     plays gender   age  \\\n",
       "0  a16371b9-7d36-497a-a9d4-42b0a0440c5e       slowdive  0.083591      m  28.0   \n",
       "1  5a24bc1a-c093-4a82-84ed-8d7f2da0570d   skinny puppy  0.338321      m   NaN   \n",
       "2  68f1175b-592b-4f28-ab1c-85c7a438c636     turbonegro  0.055152      m  29.0   \n",
       "3  cfd3727e-7162-4e6a-a3f7-a59343ee6b8d  honey is cool  0.107759    NaN   NaN   \n",
       "4  3bb24e11-821a-4e4e-bd89-e0a2452474cf     useless id  0.283465      m  25.0   \n",
       "\n",
       "          country signupDate  \n",
       "0         Germany 2006-09-16  \n",
       "1          Canada 2006-12-14  \n",
       "2  United Kingdom 2005-09-23  \n",
       "3         Denmark 2008-12-22  \n",
       "4          Serbia 2009-03-15  "
      ]
     },
     "execution_count": 5,
     "metadata": {},
     "output_type": "execute_result"
    }
   ],
   "source": [
    "dfsmall.head()"
   ]
  },
  {
   "cell_type": "code",
   "execution_count": 17,
   "metadata": {
    "collapsed": true
   },
   "outputs": [],
   "source": [
    "directory = 'lastfm-dataset-360k-small'\n",
    "\n",
    "if not os.path.exists(directory):\n",
    "    os.makedirs(directory)\n",
    "\n",
    "dfsmall.to_csv('./lastfm-dataset-360k-small/merged-subset2.csv',encoding='utf-8',index=False, sep='\\t')"
   ]
  },
  {
   "cell_type": "code",
   "execution_count": 7,
   "metadata": {
    "collapsed": false
   },
   "outputs": [
    {
     "data": {
      "text/plain": [
       "(0, 2)"
      ]
     },
     "execution_count": 7,
     "metadata": {},
     "output_type": "execute_result"
    },
    {
     "data": {
      "image/png": "[encoded data removed]",
      "text/plain": [
       "<matplotlib.figure.Figure at 0xb0ef198>"
      ]
     },
     "metadata": {},
     "output_type": "display_data"
    }
   ],
   "source": [
    "dfsmall.plays.hist(bins=200)\n",
    "plt.xlim(0,2)"
   ]
  },
  {
   "cell_type": "code",
   "execution_count": 9,
   "metadata": {
    "collapsed": false
   },
   "outputs": [
    {
     "name": "stdout",
     "output_type": "stream",
     "text": [
      "Null values in gender - 908\n"
     ]
    },
    {
     "data": {
      "text/plain": [
       "m    6756\n",
       "f    2336\n",
       "Name: gender, dtype: int64"
      ]
     },
     "execution_count": 9,
     "metadata": {},
     "output_type": "execute_result"
    }
   ],
   "source": [
    "print (\"Null values in gender -\",dfsmall.gender.isnull().sum())\n",
    "dfsmall.gender.value_counts()"
   ]
  },
  {
   "cell_type": "code",
   "execution_count": 11,
   "metadata": {
    "collapsed": false
   },
   "outputs": [
    {
     "name": "stdout",
     "output_type": "stream",
     "text": [
      "Null values in age - 2040\n"
     ]
    },
    {
     "data": {
      "text/plain": [
       "7960"
      ]
     },
     "execution_count": 11,
     "metadata": {},
     "output_type": "execute_result"
    }
   ],
   "source": [
    "print (\"Null values in age -\",dfsmall.age.isnull().sum())\n",
    "dfsmall.age.notnull().sum()"
   ]
  },
  {
   "cell_type": "code",
   "execution_count": 18,
   "metadata": {
    "collapsed": false
   },
   "outputs": [
    {
     "name": "stdout",
     "output_type": "stream",
     "text": [
      "Null values in country - 0\n"
     ]
    },
    {
     "data": {
      "text/plain": [
       "United States                             1863\n",
       "Germany                                    847\n",
       "United Kingdom                             829\n",
       "Poland                                     546\n",
       "Russian Federation                         528\n",
       "Sweden                                     410\n",
       "Brazil                                     383\n",
       "Spain                                      376\n",
       "Finland                                    351\n",
       "Netherlands                                278\n",
       "Italy                                      233\n",
       "Canada                                     226\n",
       "France                                     221\n",
       "Australia                                  196\n",
       "Turkey                                     182\n",
       "Japan                                      163\n",
       "Norway                                     151\n",
       "Czech Republic                             147\n",
       "Ukraine                                    121\n",
       "Belgium                                    114\n",
       "Mexico                                     105\n",
       "Austria                                     93\n",
       "Portugal                                    92\n",
       "Switzerland                                 92\n",
       "Romania                                     80\n",
       "Argentina                                   79\n",
       "Denmark                                     73\n",
       "Bulgaria                                    70\n",
       "Chile                                       70\n",
       "Colombia                                    65\n",
       "                                          ... \n",
       "Kyrgyzstan                                   1\n",
       "Reunion                                      1\n",
       "Martinique                                   1\n",
       "Sri Lanka                                    1\n",
       "Kuwait                                       1\n",
       "Papua New Guinea                             1\n",
       "Nicaragua                                    1\n",
       "Sao Tome and Principe                        1\n",
       "Zimbabwe                                     1\n",
       "Montenegro                                   1\n",
       "Libyan Arab Jamahiriya                       1\n",
       "Bhutan                                       1\n",
       "Liechtenstein                                1\n",
       "Afghanistan                                  1\n",
       "Wallis and Futuna                            1\n",
       "Guinea-Bissau                                1\n",
       "Netherlands Antilles                         1\n",
       "Pitcairn                                     1\n",
       "Togo                                         1\n",
       "Kiribati                                     1\n",
       "Cayman Islands                               1\n",
       "Dominica                                     1\n",
       "Algeria                                      1\n",
       "Korea, Democratic People's Republic of       1\n",
       "Somalia                                      1\n",
       "Bahrain                                      1\n",
       "Sierra Leone                                 1\n",
       "Vanuatu                                      1\n",
       "Botswana                                     1\n",
       "Fiji                                         1\n",
       "Name: country, Length: 146, dtype: int64"
      ]
     },
     "execution_count": 18,
     "metadata": {},
     "output_type": "execute_result"
    }
   ],
   "source": [
    "print (\"Null values in country -\",dfsmall.country.isnull().sum())\n",
    "dfsmall.country.value_counts()"
   ]
  },
  {
   "cell_type": "code",
   "execution_count": 21,
   "metadata": {
    "collapsed": false
   },
   "outputs": [
    {
     "name": "stdout",
     "output_type": "stream",
     "text": [
      "['United States', 'Germany', 'United Kingdom', 'Poland', 'Russian Federation', 'Brazil', 'Sweden', 'Spain', 'Finland', 'Netherlands', 'Italy', 'France', 'Canada', 'Australia', 'Turkey', 'Norway', 'Czech Republic', 'Ukraine', 'Japan', 'Belgium', 'Mexico', 'Argentina', 'Switzerland', 'Austria', 'Romania', 'Portugal', 'Bulgaria', 'Chile', 'Denmark', 'Colombia', 'Greece', 'Hungary', 'Latvia', 'Slovakia', 'Croatia', 'Serbia', 'Lithuania', 'Estonia', 'Ireland', 'New Zealand', 'Belarus', 'Israel', 'India', 'Venezuela', 'Indonesia', 'Singapore', 'Slovenia', 'Korea, Republic of', 'China', 'South Africa', 'Malaysia', 'Philippines', 'Peru', 'Thailand', 'Moldova', 'Costa Rica', 'Iceland', 'Taiwan', 'Paraguay', 'Bosnia and Herzegovina', 'Antarctica', 'Puerto Rico', 'Georgia', 'Macedonia', 'Uruguay', 'Honduras', 'Barbados', 'Kazakhstan', 'Andorra', 'Saudi Arabia', 'United States Minor Outlying Islands', 'Djibouti', 'Cocos (Keeling) Islands', 'Tunisia', 'Egypt', 'Bolivia', 'Panama', 'Brunei Darussalam', 'Iran, Islamic Republic of', 'Dominican Republic', 'El Salvador', 'Haiti', 'Ecuador', 'Guatemala', 'Morocco', 'Pakistan', 'Burkina Faso', 'Azerbaijan', 'Cambodia', 'Hong Kong', 'Viet Nam', 'United Arab Emirates', 'Jamaica', 'Faroe Islands', 'Somalia', 'Guinea-Bissau', 'Micronesia, Federated States of', 'Tuvalu', \"Cote D'Ivoire\", 'Libyan Arab Jamahiriya', 'Nicaragua', 'Kyrgyzstan', 'Malta', 'Bermuda', 'Luxembourg', 'Kuwait', 'Cyprus', 'Heard Island and Mcdonald Islands', 'Christmas Island', 'Cuba', 'Niue', 'Aruba', 'Vanuatu', 'Dominica', 'Holy See (Vatican City State)', 'Uzbekistan', 'Bhutan', 'Montenegro', 'Reunion', 'Fiji', 'Netherlands Antilles', 'Lebanon', 'Liechtenstein']\n"
     ]
    }
   ],
   "source": [
    "print(list(dfsmall.loc[(dfsmall.gender.notnull()) & (dfsmall.age.notnull())].country.value_counts().index))"
   ]
  },
  {
   "cell_type": "code",
   "execution_count": 22,
   "metadata": {
    "collapsed": true
   },
   "outputs": [],
   "source": [
    "genderdict = {'m':0,'f':1}\n",
    "\n",
    "def mapr1(key):\n",
    "    \"\"\" Maps numbers to categories (gender)\"\"\"\n",
    "    return genderdict[key]"
   ]
  },
  {
   "cell_type": "code",
   "execution_count": 25,
   "metadata": {
    "collapsed": false
   },
   "outputs": [
    {
     "data": {
      "text/plain": [
       "0"
      ]
     },
     "execution_count": 25,
     "metadata": {},
     "output_type": "execute_result"
    }
   ],
   "source": [
    "mapr1('m')"
   ]
  }
 ],
 "metadata": {
  "kernelspec": {
   "display_name": "Python 3",
   "language": "python",
   "name": "python3"
  },
  "language_info": {
   "codemirror_mode": {
    "name": "ipython",
    "version": 3
   },
   "file_extension": ".py",
   "mimetype": "text/x-python",
   "name": "python",
   "nbconvert_exporter": "python",
   "pygments_lexer": "ipython3",
   "version": "3.6.0"
  }
 },
 "nbformat": 4,
 "nbformat_minor": 2
}
