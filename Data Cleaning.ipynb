{
 "cells": [
  {
   "cell_type": "code",
   "execution_count": 17,
   "metadata": {
    "collapsed": true
   },
   "outputs": [],
   "source": [
    "#Import Packages\n",
    "\n",
    "import pandas as pd\n",
    "import numpy as np\n",
    "import seaborn as sns\n",
    "\n",
    "import os\n",
    "\n",
    "%matplotlib inline\n",
    "pd.set_option('display.max_columns', 500)"
   ]
  },
  {
   "cell_type": "markdown",
   "metadata": {},
   "source": [
    "# Users"
   ]
  },
  {
   "cell_type": "code",
   "execution_count": 2,
   "metadata": {
    "collapsed": true
   },
   "outputs": [],
   "source": [
    "#Import the full data\n",
    "dfsmall = pd.read_csv(\"./lastfm-dataset-360k/usersha1-profile.tsv\",sep='\\t',names=['userId','gender','age','country','signupDate'])\n",
    "# data = pd.read_csv(\"./lastfm-dataset-360k/usersha1-artmbid-artname-plays.tsv\",sep='\\t',names=['userId','artistId','artist','plays'])"
   ]
  },
  {
   "cell_type": "markdown",
   "metadata": {},
   "source": [
    "## Make sure data makes sense"
   ]
  },
  {
   "cell_type": "code",
   "execution_count": 3,
   "metadata": {},
   "outputs": [
    {
     "data": {
      "text/plain": [
       "count     326572\n",
       "unique         2\n",
       "top            m\n",
       "freq      241642\n",
       "Name: gender, dtype: object"
      ]
     },
     "execution_count": 3,
     "metadata": {},
     "output_type": "execute_result"
    }
   ],
   "source": [
    "# Gender\n",
    "dfsmall.gender.describe()"
   ]
  },
  {
   "cell_type": "code",
   "execution_count": 4,
   "metadata": {},
   "outputs": [
    {
     "data": {
      "text/plain": [
       "count    284447.000000\n",
       "mean         25.098046\n",
       "std          21.665742\n",
       "min       -1337.000000\n",
       "25%          20.000000\n",
       "50%          23.000000\n",
       "75%          28.000000\n",
       "max        1002.000000\n",
       "Name: age, dtype: float64"
      ]
     },
     "execution_count": 4,
     "metadata": {},
     "output_type": "execute_result"
    }
   ],
   "source": [
    "# Age\n",
    "dfsmall.age.describe()"
   ]
  },
  {
   "cell_type": "code",
   "execution_count": 5,
   "metadata": {},
   "outputs": [],
   "source": [
    "dfsmall.loc[(dfsmall['age'] < 0) | (dfsmall['age'] > 122),['age']] = np.nan #assign NaN in place of unrealistic values"
   ]
  },
  {
   "cell_type": "code",
   "execution_count": 6,
   "metadata": {},
   "outputs": [
    {
     "data": {
      "text/plain": [
       "count    284388.000000\n",
       "mean         25.365364\n",
       "std           9.631621\n",
       "min           1.000000\n",
       "25%          20.000000\n",
       "50%          23.000000\n",
       "75%          28.000000\n",
       "max         121.000000\n",
       "Name: age, dtype: float64"
      ]
     },
     "execution_count": 6,
     "metadata": {},
     "output_type": "execute_result"
    }
   ],
   "source": [
    "dfsmall.age.describe()"
   ]
  },
  {
   "cell_type": "code",
   "execution_count": 7,
   "metadata": {},
   "outputs": [
    {
     "data": {
      "text/plain": [
       "count            359347\n",
       "unique              239\n",
       "top       United States\n",
       "freq              67044\n",
       "Name: country, dtype: object"
      ]
     },
     "execution_count": 7,
     "metadata": {},
     "output_type": "execute_result"
    }
   ],
   "source": [
    "#country\n",
    "dfsmall.country.describe()"
   ]
  },
  {
   "cell_type": "code",
   "execution_count": 8,
   "metadata": {},
   "outputs": [
    {
     "data": {
      "text/plain": [
       "count           359347\n",
       "unique            2298\n",
       "top       Jan 24, 2008\n",
       "freq               569\n",
       "Name: signupDate, dtype: object"
      ]
     },
     "execution_count": 8,
     "metadata": {},
     "output_type": "execute_result"
    }
   ],
   "source": [
    "#signupdate\n",
    "dfsmall.loc['signupDate'] = pd.to_datetime(dfsmall['signupDate'],infer_datetime_format=True)\n",
    "dfsmall.signupDate.describe()"
   ]
  },
  {
   "cell_type": "markdown",
   "metadata": {},
   "source": [
    "### Missing Values\n",
    "I don't think we have enough information to find the missing values. So, we need to keep the dataframe as it is."
   ]
  },
  {
   "cell_type": "code",
   "execution_count": 9,
   "metadata": {},
   "outputs": [
    {
     "name": "stdout",
     "output_type": "stream",
     "text": [
      "0.0% of the data from userId column is missing\n",
      "9.12% of the data from gender column is missing\n",
      "20.86% of the data from age column is missing\n",
      "0.0% of the data from country column is missing\n",
      "0.0% of the data from signupDate column is missing\n"
     ]
    }
   ],
   "source": [
    "for column in list(dfsmall.columns):\n",
    "    print (\"{}% of the data from {} column is missing\".format(round(dfsmall[column].isnull().sum() * 100 / len(dfsmall[column]),2), column))"
   ]
  },
  {
   "cell_type": "markdown",
   "metadata": {},
   "source": [
    "# Listening Data"
   ]
  },
  {
   "cell_type": "code",
   "execution_count": 10,
   "metadata": {
    "collapsed": true
   },
   "outputs": [],
   "source": [
    "#Import the full data\n",
    "# dfsmall = pd.read_csv(\"./lastfm-dataset-360k/usersha1-profile.tsv\",sep='\\t',names=['userId','gender','age','country','signupDate'])\n",
    "data = pd.read_csv(\"./lastfm-dataset-360k/usersha1-artmbid-artname-plays.tsv\",sep='\\t',names=['userId','artistId','artist','plays'])"
   ]
  },
  {
   "cell_type": "code",
   "execution_count": 11,
   "metadata": {},
   "outputs": [
    {
     "data": {
      "text/html": [
       "<div>\n",
       "<style>\n",
       "    .dataframe thead tr:only-child th {\n",
       "        text-align: right;\n",
       "    }\n",
       "\n",
       "    .dataframe thead th {\n",
       "        text-align: left;\n",
       "    }\n",
       "\n",
       "    .dataframe tbody tr th {\n",
       "        vertical-align: top;\n",
       "    }\n",
       "</style>\n",
       "<table border=\"1\" class=\"dataframe\">\n",
       "  <thead>\n",
       "    <tr style=\"text-align: right;\">\n",
       "      <th></th>\n",
       "      <th>userId</th>\n",
       "      <th>artistId</th>\n",
       "      <th>artist</th>\n",
       "    </tr>\n",
       "  </thead>\n",
       "  <tbody>\n",
       "    <tr>\n",
       "      <th>count</th>\n",
       "      <td>433920</td>\n",
       "      <td>428363</td>\n",
       "      <td>433920</td>\n",
       "    </tr>\n",
       "    <tr>\n",
       "      <th>unique</th>\n",
       "      <td>8875</td>\n",
       "      <td>46553</td>\n",
       "      <td>52939</td>\n",
       "    </tr>\n",
       "    <tr>\n",
       "      <th>top</th>\n",
       "      <td>03e5179fca5c4f8fe6cefd95822a24610c830fdd</td>\n",
       "      <td>a74b1b7f-71a5-4011-9441-d0b5e4122711</td>\n",
       "      <td>radiohead</td>\n",
       "    </tr>\n",
       "    <tr>\n",
       "      <th>freq</th>\n",
       "      <td>103</td>\n",
       "      <td>1904</td>\n",
       "      <td>1904</td>\n",
       "    </tr>\n",
       "  </tbody>\n",
       "</table>\n",
       "</div>"
      ],
      "text/plain": [
       "                                          userId  \\\n",
       "count                                     433920   \n",
       "unique                                      8875   \n",
       "top     03e5179fca5c4f8fe6cefd95822a24610c830fdd   \n",
       "freq                                         103   \n",
       "\n",
       "                                    artistId     artist  \n",
       "count                                 428363     433920  \n",
       "unique                                 46553      52939  \n",
       "top     a74b1b7f-71a5-4011-9441-d0b5e4122711  radiohead  \n",
       "freq                                    1904       1904  "
      ]
     },
     "execution_count": 11,
     "metadata": {},
     "output_type": "execute_result"
    }
   ],
   "source": [
    "data[['userId','artistId','artist']].describe()"
   ]
  },
  {
   "cell_type": "code",
   "execution_count": 12,
   "metadata": {
    "scrolled": true
   },
   "outputs": [
    {
     "data": {
      "text/plain": [
       "count    433919.000000\n",
       "mean        216.018722\n",
       "std         602.478277\n",
       "min           1.000000\n",
       "25%          34.000000\n",
       "50%          94.000000\n",
       "75%         224.000000\n",
       "max      135392.000000\n",
       "Name: plays, dtype: float64"
      ]
     },
     "execution_count": 12,
     "metadata": {},
     "output_type": "execute_result"
    }
   ],
   "source": [
    "data.plays.describe()"
   ]
  },
  {
   "cell_type": "markdown",
   "metadata": {},
   "source": [
    "## Missing Values"
   ]
  },
  {
   "cell_type": "code",
   "execution_count": 13,
   "metadata": {},
   "outputs": [
    {
     "name": "stdout",
     "output_type": "stream",
     "text": [
      "0.0% of the data from userId column is missing\n",
      "1.28% of the data from artistId column is missing\n",
      "0.0% of the data from artist column is missing\n",
      "0.0% of the data from plays column is missing\n"
     ]
    }
   ],
   "source": [
    "for column in list(data.columns):\n",
    "    print (\"{}% of the data from {} column is missing\".format(round(data[column].isnull().sum() * 100 / len(data[column]),2), column))"
   ]
  },
  {
   "cell_type": "code",
   "execution_count": 14,
   "metadata": {},
   "outputs": [],
   "source": [
    "# Let's drop the rows where artistId is missing\n",
    "data = data.loc[data['artistId'].notnull()]"
   ]
  },
  {
   "cell_type": "code",
   "execution_count": 15,
   "metadata": {},
   "outputs": [
    {
     "name": "stdout",
     "output_type": "stream",
     "text": [
      "0.0% of the data from userId column is missing\n",
      "0.0% of the data from artistId column is missing\n",
      "0.0% of the data from artist column is missing\n",
      "0.0% of the data from plays column is missing\n"
     ]
    }
   ],
   "source": [
    "for column in list(data.columns):\n",
    "    print (\"{}% of the data from {} column is missing\".format(round(data[column].isnull().sum() * 100 / len(data[column]),2), column))"
   ]
  },
  {
   "cell_type": "markdown",
   "metadata": {
    "collapsed": true
   },
   "source": [
    "## Merge the datasets"
   ]
  },
  {
   "cell_type": "code",
   "execution_count": 22,
   "metadata": {},
   "outputs": [
    {
     "name": "stdout",
     "output_type": "stream",
     "text": [
      "630492\n"
     ]
    }
   ],
   "source": [
    "# Merge the data\n",
    "data = pd.merge(data, dfsmall, on='userId', how='left')\n",
    "print (len(data))\n",
    "data.head(2)\n",
    "\n",
    "directory = 'lastfm-dataset-360K-cleaned'\n",
    "\n",
    "if not os.path.exists(directory):\n",
    "    os.makedirs(directory)\n",
    "\n",
    "#Save Cleaned Data\n",
    "data.to_csv('./lastfm-dataset-360k-cleaned/merged-data.csv')"
   ]
  },
  {
   "cell_type": "code",
   "execution_count": 23,
   "metadata": {},
   "outputs": [
    {
     "name": "stdout",
     "output_type": "stream",
     "text": [
      "(630492, 23)\n",
      "(10000, 23)\n"
     ]
    }
   ],
   "source": [
    "# Subset\n",
    "\n",
    "dfsmall = data.iloc[np.random.choice(data.index,size=10000,replace=False)]\n",
    "print (data.shape)\n",
    "print (dfsmall.shape)"
   ]
  },
  {
   "cell_type": "code",
   "execution_count": 24,
   "metadata": {
    "collapsed": true
   },
   "outputs": [],
   "source": [
    "directory = 'lastfm-dataset-360k-small'\n",
    "\n",
    "if not os.path.exists(directory):\n",
    "    os.makedirs(directory)\n",
    "\n",
    "dfsmall.to_csv('./lastfm-dataset-360k-small/merged-subset.csv')"
   ]
  }
 ],
 "metadata": {
  "kernelspec": {
   "display_name": "Python 3",
   "language": "python",
   "name": "python3"
  },
  "language_info": {
   "codemirror_mode": {
    "name": "ipython",
    "version": 3
   },
   "file_extension": ".py",
   "mimetype": "text/x-python",
   "name": "python",
   "nbconvert_exporter": "python",
   "pygments_lexer": "ipython3",
   "version": "3.6.1"
  }
 },
 "nbformat": 4,
 "nbformat_minor": 2
}
